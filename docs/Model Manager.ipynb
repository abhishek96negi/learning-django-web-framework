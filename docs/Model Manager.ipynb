{
 "cells": [
  {
   "cell_type": "markdown",
   "id": "e2e4f635",
   "metadata": {},
   "source": [
    "# Model Manager\n",
    "\n",
    "A Manager is the interface through which database query operations are provided to Django models. At least one Manager exists for every model in a Django application.\n",
    "\n",
    "Model Manager is used to interact with database.\n",
    "\n",
    "By default, Django adds a Manager with the name objects to every Django model class.\n",
    "\n",
    "    django.db.models.manager.Manager\n",
    "\n",
    "## Change Manager Name\n",
    "\n",
    "By default, Django adds a Manager with the name objects to every Django model class. However, if you want to use objects as a filed name, or if you want to use a name other than objects for the Manager, you can rename it on a per-model basis.\n",
    "\n",
    "To rename the Manager for a given class, define a class attribute of type models.Manager() on that model."
   ]
  },
  {
   "cell_type": "code",
   "execution_count": null,
   "id": "9e122f84",
   "metadata": {},
   "outputs": [],
   "source": [
    "# models.py\n",
    "from django.db import models\n",
    "from .managers import CustomManager\n",
    "    class Student(models.Model):\n",
    "        name = models.CharField(max_length=70)\n",
    "        roll = models.IntegerField()\n",
    "        students = models.Manager()\n",
    "        \n",
    "# views.py\n",
    "student_data = Student.student.all()\n",
    "#              ClassName.objects.all()"
   ]
  },
  {
   "cell_type": "markdown",
   "id": "4737b99a",
   "metadata": {},
   "source": [
    "## Custom Model Manager\n",
    "\n",
    "You can use a custom Manager in a particular model by extending the base Manger class and instantiating your custom Manager in your model.\n",
    "\n",
    "A custom Manager method can return aything you want. It doesn't have to return a QuerySet.\n",
    "\n",
    "* to modify the initial QuerySet the Manager returns\n",
    "* to add extra Manager methods.\n",
    "\n",
    "### Modify the initial QuerySet\n",
    "\n",
    "A Manager's base QuerySet returns all objects in the system. You can override a Manager's base QuerySet by overriding the Manager.get_queryset() method.get_qyeryset() should return a QuerySet with the properties you require.\n",
    "\n",
    "**Write Model Manager**"
   ]
  },
  {
   "cell_type": "code",
   "execution_count": null,
   "id": "faf6ec2d",
   "metadata": {},
   "outputs": [],
   "source": [
    "# managers.py\n",
    "from django.db import models\n",
    "class CustomManager(models.Manager):\n",
    "    def get_ queryset(self):  # overriding Built-in method called when we call all()\n",
    "            return super().get_queryset().order_by('name')"
   ]
  },
  {
   "cell_type": "markdown",
   "id": "4ee04d1d",
   "metadata": {},
   "source": [
    "**Associate Manager with Model**"
   ]
  },
  {
   "cell_type": "code",
   "execution_count": null,
   "id": "6657c612",
   "metadata": {},
   "outputs": [],
   "source": [
    "#models.py\n",
    "from .managers import CustomManger\n",
    "class Student(models.Model):\n",
    "    name = models.CharField(max_length=70)\n",
    "    roll = models.IntegerFIeld()\n",
    "    objects = models.Manager()    # Default Manager\n",
    "    students = CustomManager()    # Custom Manager\n",
    "    # You can associate more than one manager in one Model\n",
    "\n",
    "# views.py\n",
    "Student_data = Student.objects.all()  # Work as per default Manager\n",
    "Student_data = Student.students.all() # return object by order name"
   ]
  },
  {
   "cell_type": "markdown",
   "id": "b161f7aa",
   "metadata": {},
   "source": [
    "### Add extra Manager Methods\n",
    "\n",
    "Adding extra Manager methods is the preferred way to add \"table-level\" functionality to your models.\n",
    "\n",
    "**Write Model Manager**"
   ]
  },
  {
   "cell_type": "code",
   "execution_count": null,
   "id": "221866da",
   "metadata": {},
   "outputs": [],
   "source": [
    "# managers.py\n",
    "from django.db import models\n",
    "\n",
    "class CustomManager(models.Manager):\n",
    "    def get_stu_roll_range(self, r1, r2):\n",
    "        return super().get_queryset().filter(roll_range(r1,r2))"
   ]
  },
  {
   "cell_type": "markdown",
   "id": "e3e7b818",
   "metadata": {},
   "source": [
    "**Associate Manager with Model**"
   ]
  },
  {
   "cell_type": "code",
   "execution_count": null,
   "id": "e12b236a",
   "metadata": {},
   "outputs": [],
   "source": [
    "from django.db import models\n",
    "from .managers import CustomManager\n",
    "\n",
    "class Student(models.Model):\n",
    "    name = models.CharField(max_length=70)\n",
    "    roll = models.IntegerField()\n",
    "    objects = models.Manager()\n",
    "    students = CustomManager()\n",
    "    \n",
    "# views.py\n",
    "Student_data = Student.objects.all()\n",
    "Student_data = Student.students.get_stu_roll_range(101,103)"
   ]
  },
  {
   "cell_type": "markdown",
   "id": "b7d119a5",
   "metadata": {},
   "source": [
    "### Model Manager with Proxy Model"
   ]
  },
  {
   "cell_type": "code",
   "execution_count": null,
   "id": "090f86f7",
   "metadata": {},
   "outputs": [],
   "source": [
    "# managers.py\n",
    "from django.db import models\n",
    "\n",
    "class CustomManager(models.Manager):\n",
    "    def get_stu_roll_range(self, r1, r2):\n",
    "        return super().get_queryset().filter(roll_range(r1,r2))\n",
    "\n",
    "# models.py\n",
    "from django.db import models\n",
    "from .managers import CustomManager\n",
    "class Student(models.Model):\n",
    "    name = models.CharField(max_length=70)\n",
    "    roll = models.IntegerField()\n",
    "    \n",
    "class ProxyStudent(Student):\n",
    "    students = CustomManger()\n",
    "    class Meta:\n",
    "        proxy = True\n",
    "        ordering = ['name']"
   ]
  }
 ],
 "metadata": {
  "kernelspec": {
   "display_name": "Python 3 (ipykernel)",
   "language": "python",
   "name": "python3"
  },
  "language_info": {
   "codemirror_mode": {
    "name": "ipython",
    "version": 3
   },
   "file_extension": ".py",
   "mimetype": "text/x-python",
   "name": "python",
   "nbconvert_exporter": "python",
   "pygments_lexer": "ipython3",
   "version": "3.7.11"
  }
 },
 "nbformat": 4,
 "nbformat_minor": 5
}
