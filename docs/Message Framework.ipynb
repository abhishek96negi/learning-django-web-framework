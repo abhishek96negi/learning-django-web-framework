{
 "cells": [
  {
   "cell_type": "markdown",
   "id": "4a6d4a8f",
   "metadata": {},
   "source": [
    "# Messages Framework\n",
    "\n",
    "The messages framework allows you to temporarily store messages in one request and retrieve them for display in subsequent request.\n",
    "\n",
    "Django provides full support for cookie- and session- based messaging, for both anonymous and authenticated users.\n",
    "\n",
    "**Settings.py**\n",
    "    \n",
    "    INSTALLED_APPS = ['django.contrib.messages']\n",
    "    \n",
    "    MIDDLEWARe = ['django.contrib.sessions.middleware.SessionMiddleware', 'django.contrib.messages.middleware.MessageMiddleware']\n",
    "    \n",
    "    'context_processors': ['django.contrib.messages.context_processors.messages']\n",
    "    \n",
    "## Message Levels and Tags\n",
    "\n",
    "The messages framework is based on a configurable level architecture similar to that of the Python logging module.\n",
    "\n",
    "Message Level - Message levels allow you to group messages by type so they can be filterd or displayed differently in views and templates.\n",
    "\n",
    "Message Tag - Message tags are a string representation of the message level plus any extra tags that were added directly in the view. Tags are stored in a string and are separated by spaces. Typically, message tags are used as CSS classes to customize message style based on message type.\n",
    "\n",
    "![image-1.png](../static/images/message_framework/message_framework1.png)\n",
    "\n",
    "## How to use\n",
    "\n",
    "**Write Message:-**\n",
    "\n",
    "    add_message(request, level, message, extra_tags='',fail_silently=False) \n",
    "    \n",
    "    This method is used to add/write messages.\n",
    "    \n",
    "    Setting fail_silently = True only hides the MessageFailure that would otherwise occur when the messages framework disabled and one attempts to use one of the add_message family of methods. It does not hide failures that may occur for other reasons."
   ]
  },
  {
   "cell_type": "code",
   "execution_count": null,
   "id": "34b1c9db",
   "metadata": {},
   "outputs": [],
   "source": [
    "from django.contrib import messages\n",
    "message.add_message(request, messages.INFO, 'information Message!!')\n",
    "\n",
    "# Write Message by Shortcut Methods:-\n",
    "\n",
    "messages.debug(request, '%s SQL statement were executed.'% count)\n",
    "\n",
    "messages.info(request, 'Three credits remain in your account.')\n",
    "\n",
    "messages.success(request, 'Profile details updated.')"
   ]
  },
  {
   "cell_type": "raw",
   "id": "1d2641fb",
   "metadata": {},
   "source": [
    "# Display Message:-\n",
    "\n",
    "{% if messages %}\n",
    "    {% for message in messages %}\n",
    "            {% if message.tags %}\n",
    "            {{message.tags}}\n",
    "        {% endif %}\n",
    "        {{message}}\n",
    "    {% endfor %}\n",
    "{% endif %}"
   ]
  },
  {
   "cell_type": "markdown",
   "id": "723fb506",
   "metadata": {},
   "source": [
    "## Methods\n",
    "\n",
    "* get_level() - This method is used to retrieved the current effective level.\n",
    "\n",
    "\n",
    "        from django.contrib import messages\n",
    "        current_level = messages.get_level(request)\n",
    "        \n",
    "* set_level() - This method is used to set minimum recorded level.\n",
    "\n",
    "        \n",
    "        from django.contrib import messages\n",
    "        messages.set_level(request, messsages.DEBUG)\n",
    "        \n",
    "This will record messages with a level of DEBUG and higher.\n",
    "\n",
    "\n",
    "* get_messages(request) - This method is used to get message. If you need to get message outside template you can use get_messages(request).\n",
    "\n",
    "    \n",
    "        from django.contrib.messages import get_messages\n",
    "        storage = get)messages(request)"
   ]
  },
  {
   "cell_type": "code",
   "execution_count": null,
   "id": "7af7ce00",
   "metadata": {},
   "outputs": [],
   "source": []
  }
 ],
 "metadata": {
  "kernelspec": {
   "display_name": "Python 3 (ipykernel)",
   "language": "python",
   "name": "python3"
  },
  "language_info": {
   "codemirror_mode": {
    "name": "ipython",
    "version": 3
   },
   "file_extension": ".py",
   "mimetype": "text/x-python",
   "name": "python",
   "nbconvert_exporter": "python",
   "pygments_lexer": "ipython3",
   "version": "3.10.11"
  }
 },
 "nbformat": 4,
 "nbformat_minor": 5
}
