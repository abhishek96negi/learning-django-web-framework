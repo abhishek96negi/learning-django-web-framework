{
 "cells": [
  {
   "cell_type": "markdown",
   "id": "64da8d54",
   "metadata": {},
   "source": [
    "# Model Form\n",
    "\n",
    "Djagno provides a helper class that lets you create a Form class from a django model. This helper is called as ModelForm.\n",
    "\n",
    "ModelForm is a reqular Form which can automatically generate certain fields.\n",
    "\n",
    "The fields that are automatically generated depend on the content of the Meta class and on which fields have already been defined declaratively.\n",
    "\n",
    "**Steps:-**\n",
    "    \n",
    "    * Create Model Class\n",
    "    \n",
    "    * Create ModelForm Class\n",
    "    \n",
    "**Syntax:- (forms.py)**\n",
    "\n",
    "    class ModelFormClassName(forms.ModelForm):\n",
    "        class Meta:\n",
    "            model = ModelClassName\n",
    "            fields = ['fieldname1', 'fieldname2', 'fieldname3']\n",
    "            # or \n",
    "            fields = ('fieldname1', 'fieldname2', 'fieldname3')\n",
    "\n",
    "\n",
    "![image-1.png](../static/images/model_form/model_form1.png)\n",
    "\n",
    "* If the model field has blank=True, then required is set to False on the form field. Otherwise, required=True.\n",
    "\n",
    "* The field's label is set to the verbose_name of the model field, with the first character capitalized.\n",
    "\n",
    "* The form field's help_text is set to the help_text of the model field.\n",
    "\n",
    "* If the model field has choices set, then the form field's widget will be set to Select, with choices coming from the model field's choices. The choices will normally include the blank choice which is selected by default. If the field is required, this forces the user to make a selection. The blank choice will not be included if the model field has blank=False and an explicit default value (the default value will be initially selected instead).\n",
    "\n"
   ]
  },
  {
   "cell_type": "code",
   "execution_count": null,
   "id": "25c16c5e",
   "metadata": {},
   "outputs": [],
   "source": [
    "class Registration(forms.ModelForm):\n",
    "        class Meta:\n",
    "            model = User\n",
    "            fields = ['name', 'password', 'email']"
   ]
  },
  {
   "cell_type": "markdown",
   "id": "ba3bb339",
   "metadata": {},
   "source": [
    "# Dynamic URL"
   ]
  },
  {
   "cell_type": "code",
   "execution_count": null,
   "id": "c4f4893a",
   "metadata": {},
   "outputs": [],
   "source": [
    "urlpatterns = [\n",
    "    path('student/', views.show_details, name=\"detail\"),\n",
    "    path('student/<my_id>/', views.show_details, name=\"detail\"),\n",
    "    path('student/<int:my_id>/', views.show_details, name=\"detail\"),\n",
    "    path('student/<int:my_id>/<int:my_subid>/<slug:my_slug>/', views.show_details, name=\"detail\"),\n",
    "]"
   ]
  },
  {
   "cell_type": "markdown",
   "id": "a5e9924d",
   "metadata": {},
   "source": [
    "## Path Converters\n",
    "\n",
    "* str - Matches any non-empty string, excluding the path separator, '/'. This is the default if a converter isn't included in the expression.\n",
    "\n",
    "* int - Matches zero or any positive integer. Returns an int.\n",
    "\n",
    "* slug - Matches any slug consisting of ASCII letters or numbers, plus the hyphen and underscore characters. For example:- building-your-1st-django-site.\n",
    "\n",
    "* uuid -  Matches a formatted UUID. To prevent multiple URLs form mapping to the same page, dashes must be included and letters must be lowecase. For example:- 075194d3-6885-417e-a8a8. Returns a UUID instance.\n",
    "\n",
    "* path- Matches any non- empty string, including the path separator, '/'. This allows you to match against a complete URL path rather than a segment of a URL path as with str."
   ]
  }
 ],
 "metadata": {
  "kernelspec": {
   "display_name": "Python 3 (ipykernel)",
   "language": "python",
   "name": "python3"
  },
  "language_info": {
   "codemirror_mode": {
    "name": "ipython",
    "version": 3
   },
   "file_extension": ".py",
   "mimetype": "text/x-python",
   "name": "python",
   "nbconvert_exporter": "python",
   "pygments_lexer": "ipython3",
   "version": "3.10.11"
  }
 },
 "nbformat": 4,
 "nbformat_minor": 5
}
