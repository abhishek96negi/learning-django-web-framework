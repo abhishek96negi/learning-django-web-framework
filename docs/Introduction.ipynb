{
 "cells": [
  {
   "cell_type": "markdown",
   "id": "c477d9d9",
   "metadata": {},
   "source": [
    "# Steps"
   ]
  },
  {
   "cell_type": "markdown",
   "id": "a718108a",
   "metadata": {},
   "source": [
    "   > Create Django Project: django-admin startyproject projectName\n",
    "   \n",
    "   > Change Directory to Django Project: cd projectName\n",
    "   \n",
    "   > Create Django Application 1 : python manage.py startapp application1\n",
    "   \n",
    "   > Create Django Application 2 : python manage.py startapp application2\n",
    "   \n",
    "   > Add/Install Applications to Django Project\n",
    "   \n",
    "       * Open setting.py\n",
    "       \n",
    "       * Add application1,application2 in INSTALLED_APPS variable\n",
    "       \n",
    "       * Save settings.py\n",
    "       \n",
    "   > Write View Function inside views.py file\n",
    "   \n",
    "   > Create an urls.py file inside each application (in case multiple application).\n",
    "   \n",
    "   > Write all url pattern related to application, in urls.py file available inside application.\n",
    "   \n",
    "   > Include Application's urls.py file inside Project's urls.py file.\n",
    "   \n",
    "   > Create templates folder inside Root Project Directory\n",
    "   \n",
    "   > Add templates directory in settings.py"
   ]
  }
 ],
 "metadata": {
  "kernelspec": {
   "display_name": "Python 3 (ipykernel)",
   "language": "python",
   "name": "python3"
  },
  "language_info": {
   "codemirror_mode": {
    "name": "ipython",
    "version": 3
   },
   "file_extension": ".py",
   "mimetype": "text/x-python",
   "name": "python",
   "nbconvert_exporter": "python",
   "pygments_lexer": "ipython3",
   "version": "3.10.11"
  }
 },
 "nbformat": 4,
 "nbformat_minor": 5
}
