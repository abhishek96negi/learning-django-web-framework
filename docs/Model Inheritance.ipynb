{
 "cells": [
  {
   "cell_type": "markdown",
   "id": "04c8a5d8",
   "metadata": {},
   "source": [
    "# Model Inheritance\n",
    "\n",
    "Model inheritance in Django works almost identically to the way normal class inheritance works in Python. The base class should subclass django.db.models.Model\n",
    "\n",
    "* Abstract Base Classes\n",
    "\n",
    "* Multi-table Inheritance\n",
    "\n",
    "* Proxy Models\n",
    "\n",
    "## Abstract Base Classes\n",
    "\n",
    "Abstract base classes are useful when you want to put some common information into a number of other models.\n",
    "\n",
    "You write your base class and put abstract=True in the Meta class.\n",
    "\n",
    "This model will then not be used to create any database table. Instead, when it is used as a base class for other models, iits field will be added to those of the child class.\n",
    "\n",
    "It does not generate a database table or have a manager, and cannot be instantiated or saved directly.\n",
    "\n",
    "Fields inherited from abstract base classes can be overridden with another field or value, or be removed with None."
   ]
  },
  {
   "cell_type": "code",
   "execution_count": null,
   "id": "0e0af2d1",
   "metadata": {},
   "outputs": [],
   "source": [
    "from django.db import models\n",
    "\n",
    "class CommonInfo(models.Model):\n",
    "    name = models.CharField(max_length=70)\n",
    "    age = models.IntegerField()\n",
    "    class Meta:\n",
    "        abstract=True\n",
    "        \n",
    "class Student(CommonInfo):\n",
    "    fees = models.IntegerField()\n",
    "    \n",
    "class Teacher(CommonInfo):\n",
    "    salary = models.IntegerField()"
   ]
  },
  {
   "cell_type": "markdown",
   "id": "e2f270d6",
   "metadata": {},
   "source": [
    "Meta Inheritance - When an abstract base class is created, Django makes any Meta inner class you declared in the base class available as an attribute.\n",
    "\n",
    "If a child class does not declare its own Meta class, it will inherit the parent's Meta.\n",
    "\n",
    "If the child wants to extend the parent's Meta class, it can subclass it.\n",
    "\n",
    "Django does make one adjustment to the Meta class of an abstract class: befor installing the Meta attribute, it sets abstract=False\n",
    "\n",
    "This means that children of abstract base classes don't auntomatically become abstract classes themselves.\n",
    "\n",
    "You can make an abstract base class that inherits from another base class. You just need to remember to explicitly set abstract=True each time."
   ]
  },
  {
   "cell_type": "code",
   "execution_count": null,
   "id": "0668a803",
   "metadata": {},
   "outputs": [],
   "source": [
    "from django.db import models\n",
    "\n",
    "class CommonInfo(models.Model):\n",
    "    name = models.CharField(max_length=70)\n",
    "    age = models.IntegerField()\n",
    "    class Meta:\n",
    "        abstract=True\n",
    "        \n",
    "class Student(CommonInfo):\n",
    "    fees = models.IntegerField()\n",
    "    \n",
    "    class Meta:\n",
    "        abstract = False # default set by django compile\n",
    "    \n",
    "class Teacher(CommonInfo):\n",
    "    salary = models.IntegerField()"
   ]
  },
  {
   "cell_type": "markdown",
   "id": "84ade7ca",
   "metadata": {},
   "source": [
    "When you are using related_name or related_query_name in an abstract base class (only), part of the value should contain '%(app_label)s' and '%(class)s'.\n",
    "\n",
    "* '%(class)s' is replaced by the lowercased name of the child class that field is used in.\n",
    "\n",
    "* '%(app_label)s' is replaced by the lowercased name of the app the child class is contained within. Each installed application name must be unique and the model class names within each app must also be unique, therefore the resulting name will end up being different."
   ]
  },
  {
   "cell_type": "code",
   "execution_count": null,
   "id": "4f543003",
   "metadata": {},
   "outputs": [],
   "source": [
    "from django.db import models\n",
    "\n",
    "class Base(models.Model):\n",
    "    m2m = models.ManyToManyField(\n",
    "        OtherModel,\n",
    "        related_name=\"%(app_label)s_%(class)s_related\",\n",
    "        related_query_name=\"%(app_label)s_%(class)ss\",\n",
    "    )\n",
    "    class Meta:\n",
    "        abstract = True\n",
    "        \n",
    "        \n",
    "class ChildA(Base):\n",
    "    pass\n",
    "\n",
    "class ChildB(Base):\n",
    "    pass"
   ]
  },
  {
   "cell_type": "markdown",
   "id": "7d1c9a57",
   "metadata": {},
   "source": [
    "## Multiple-table Inheritance\n",
    "\n",
    "In this inheritance each model have their own database table, which means base class and child class will have their own table.\n",
    "\n",
    "The inheritance relationship introduces links between the child model and each of its parents (via an automatically-created OneToOneField)."
   ]
  },
  {
   "cell_type": "code",
   "execution_count": null,
   "id": "c9fb0acd",
   "metadata": {},
   "outputs": [],
   "source": [
    "from django.db import models\n",
    "\n",
    "class ExamCenter(models.Model):\n",
    "    cname = models.CharField(max_length=70)\n",
    "    city = models.CharField(max_length=70)\n",
    "    \n",
    "class Student(ExamCenter):\n",
    "    name = models.CharField(max_length=70)\n",
    "    roll = models.IntegerField()"
   ]
  },
  {
   "cell_type": "markdown",
   "id": "adc36619",
   "metadata": {},
   "source": [
    "All of the fields of ExamCenter will also be avaiable in Student, although the data will reside in a different database table.\n",
    "\n",
    "## Proxy Model\n",
    "\n",
    "Sometimes, however, you only want to change the Python behaviour of a model - Perhaps to change the default manager, or add a new method.\n",
    "\n",
    "This is what proxy model inheritance is for: creating a proxy for the original model. You can create, delete and update instances of the proxy model and all the data will be saved as if you were using the original (non-proxied) model. The difference is that you can change things like the default model ordering or the default manager in the proxy, without having to alter the original.\n",
    "\n",
    "Proxy models are declared like normal models. You tell Django that it's proxy model by setting the proxy attribute of the Meta class to True."
   ]
  },
  {
   "cell_type": "code",
   "execution_count": null,
   "id": "66dd9573",
   "metadata": {},
   "outputs": [],
   "source": [
    "from django.db import models\n",
    "\n",
    "class ExamCenter(models.Model):\n",
    "    cname = models.CharField(max_length=70)\n",
    "    city = models.CharField(max_length=70)\n",
    "    \n",
    "class Student(ExamCenter):\n",
    "    class Meta:\n",
    "        proxy = True\n",
    "        ordering = ['city']\n",
    "    def do_something(self):\n",
    "        pass\n",
    "    \n",
    "class MySome(ExamCenter):\n",
    "    objects = NewManager()\n",
    "    \n",
    "    class Meta:\n",
    "        proxy = True"
   ]
  },
  {
   "cell_type": "markdown",
   "id": "204aaf0f",
   "metadata": {},
   "source": [
    "* A proxy model must inherit from exactly one non-abstract model class.\n",
    "\n",
    "* You can't inherit from multiple non-abstract models as the proxy model doesn't provide any connection between the rows in the different database tables.\n",
    "\n",
    "* A proxy model can inherit from any number of abstract model classes, providing they do not define any model fields.\n",
    "\n",
    "* A proxy model may also inherit from any number of proxy models that share a common non-abstract parent class.\n",
    "\n",
    "* If you don't specify any model managers on a proxy model, it inherits the managers from its model parents.\n",
    "\n",
    "* If you define a manager on the proxy model, it will become the default, although any managers defined on the parent classes will still be avaiable."
   ]
  }
 ],
 "metadata": {
  "kernelspec": {
   "display_name": "Python 3 (ipykernel)",
   "language": "python",
   "name": "python3"
  },
  "language_info": {
   "codemirror_mode": {
    "name": "ipython",
    "version": 3
   },
   "file_extension": ".py",
   "mimetype": "text/x-python",
   "name": "python",
   "nbconvert_exporter": "python",
   "pygments_lexer": "ipython3",
   "version": "3.7.11"
  }
 },
 "nbformat": 4,
 "nbformat_minor": 5
}
