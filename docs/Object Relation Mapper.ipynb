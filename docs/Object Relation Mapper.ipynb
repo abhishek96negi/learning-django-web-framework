{
 "cells": [
  {
   "cell_type": "markdown",
   "id": "8cd539e7",
   "metadata": {},
   "source": [
    "# Object Relational Mapper(ORM)\n",
    "\n",
    "Object-Relational Mapper (ORM), which enables application to interact with database such as SQLite, MySQL, PostgreSQL, Oracle.\n",
    "\n",
    "ORMs automatically create a database schema from defined classes or models. It generate SQL from Python code for a particular database which means developer do not need to write SQL Code.\n",
    "\n",
    "ORM maps objects attributes to respecitve table fields.\n",
    "\n",
    "It is easier to change the database if we use ORMs hence project becomes more portable.\n",
    "\n",
    "Django's ORM is just a way to create SQL to query and manipulate your database and get reults in a pythonic fashion.\n",
    "\n",
    "ORMs use connectors to connect databases with a web application.\n",
    "\n",
    "![image-1.png](../static/images/orm/orm1.png)\n",
    "\n",
    "![image-2.png](../static/images/orm/orm2.png)"
   ]
  }
 ],
 "metadata": {
  "kernelspec": {
   "display_name": "Python 3 (ipykernel)",
   "language": "python",
   "name": "python3"
  },
  "language_info": {
   "codemirror_mode": {
    "name": "ipython",
    "version": 3
   },
   "file_extension": ".py",
   "mimetype": "text/x-python",
   "name": "python",
   "nbconvert_exporter": "python",
   "pygments_lexer": "ipython3",
   "version": "3.10.11"
  }
 },
 "nbformat": 4,
 "nbformat_minor": 5
}
