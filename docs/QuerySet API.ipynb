{
 "cells": [
  {
   "cell_type": "markdown",
   "id": "2a4c90b9",
   "metadata": {},
   "source": [
    "# QuerySet API\n",
    "\n",
    "A QuerySet can be defined as a list containing all those objects we have created using the Django model.\n",
    "\n",
    "QuerySets allow you to read the data from the database, filter it an order it.\n",
    "\n",
    "query property - This property is used to get sql query of query set.\n",
    "\n",
    "**Syntax:-**\n",
    "    \n",
    "    queryset.query\n",
    "    \n",
    "## Methods that return new QuerySets\n",
    "\n",
    "**Retrieving all objects**\n",
    "\n",
    "* all() - This method is used to retrieve all objects. This returns a copy of current QuerySet.\n",
    "\n",
    "    Example:- \n",
    "        \n",
    "        * Student.objects.all()"
   ]
  },
  {
   "cell_type": "code",
   "execution_count": null,
   "id": "b9acbe2c",
   "metadata": {},
   "outputs": [],
   "source": [
    "# models.py\n",
    "\n",
    "class Student(models.Model):\n",
    "    roll=models.IntegerField(unique=True, null=False)\n",
    "    name=models.CharField(max_length=70)  \n",
    "    city=models.EmailField(max_length=70)\n",
    "    marks=models.IntegerField()\n",
    "    pass_date = models.DateField()  \n",
    "    \n",
    "\n",
    "class Teacher(models.Model):\n",
    "    empnum=models.IntegerField(unique=True, null=False)\n",
    "    name=models.CharField(max_length=70)  \n",
    "    city=models.EmailField(max_length=70)\n",
    "    salary=models.IntegerField()\n",
    "    join_date = models.DateField()  "
   ]
  },
  {
   "cell_type": "code",
   "execution_count": null,
   "id": "6d5902d5",
   "metadata": {},
   "outputs": [],
   "source": [
    "# admins.py\n",
    "from djagno.contrib import admin\n",
    "from .models import Student, Teacher\n",
    "\n",
    "@admin.register(Student)\n",
    "    class StudentAdmin(admin.ModelAdmin):\n",
    "        list_display = ('id', 'name', 'roll', 'city', 'marks', 'pass_date')\n",
    "        \n",
    "@admin.register(Teacher)\n",
    "    class TeacherAdmin(admin.ModelAdmin):\n",
    "        list_display = ('id', 'name', 'empnum', 'city', 'salary', 'join_date')"
   ]
  },
  {
   "cell_type": "code",
   "execution_count": null,
   "id": "23aba699",
   "metadata": {},
   "outputs": [],
   "source": [
    "# convert the model to the sql query\n",
    "python mange.py makemigrations\n",
    "\n",
    "# create table into the  database\n",
    "python manage.py migrate"
   ]
  },
  {
   "cell_type": "code",
   "execution_count": null,
   "id": "afb8f0c1",
   "metadata": {},
   "outputs": [],
   "source": [
    "## we store many record from the admin panel\n",
    "\n",
    "## views.py\n",
    "\n",
    "from django.shortcuts import render\n",
    "from .models import Student, Teacher\n",
    "\n",
    "\n",
    "def home(request):\n",
    "    student_data = Student.objects.all()\n",
    "    print(student_data)\n",
    "    print(\"SQL QUERY:\", student_data.query)\n",
    "    ## SELECT * from \"school_student\";  ##(school_student) /(applciationName_tableName)  , * - all columns Name\n",
    "    return render(request, 'home.html', {'students': student_data})"
   ]
  },
  {
   "cell_type": "raw",
   "id": "ef1bd5d5",
   "metadata": {},
   "source": [
    "#home.html\n",
    "{% for student in students %}\n",
    "    {{student.id}}\n",
    "    {{student.name}}\n",
    "    {{student.roll}}\n",
    "    {{student.city}}\n",
    "    {{student.pass_date}}\n",
    "{% endfor %}"
   ]
  },
  {
   "cell_type": "markdown",
   "id": "25e0fadc",
   "metadata": {},
   "source": [
    "**Retrieving specific objects**\n",
    "\n",
    "* filter(* *kwargs) - It returns a new QuerySet containing objects that match the given lookup parameters. filter() will always give you a QuerySet, even if only a single object matches the query.\n",
    "\n",
    "    Example:- \n",
    "        \n",
    "        * Student.objects.filter(marks=70)"
   ]
  },
  {
   "cell_type": "code",
   "execution_count": null,
   "id": "eb7b6a6c",
   "metadata": {},
   "outputs": [],
   "source": [
    "student_data = Student.objects.filter(marks=70)  # marks = fieldname\n",
    "# SQL QUERY:-\n",
    "\"\"\"\n",
    "    select * from \"school_student\" where \"school_student\".\"marks\" = 70;\n",
    "\"\"\""
   ]
  },
  {
   "cell_type": "markdown",
   "id": "f3a4a874",
   "metadata": {},
   "source": [
    "* exclude(* *kwargs) - It returns a new QuerySet containing objects that do not match the given lookup parameters. filter() will always give you a QuerySet, even if only a single object matches the query.\n",
    "\n",
    "    Example:- \n",
    "        \n",
    "        * Student.objects.exclude(marks=70)"
   ]
  },
  {
   "cell_type": "code",
   "execution_count": null,
   "id": "36a1948e",
   "metadata": {},
   "outputs": [],
   "source": [
    "student_data = Student.objects.exclude(marks=70)  # marks = fieldname\n",
    "# SQL QUERY:-\n",
    "\"\"\"\n",
    "    select * from \"school_student\" where NOT(\"school_student\".\"marks\" = 70);\n",
    "\"\"\""
   ]
  },
  {
   "cell_type": "markdown",
   "id": "2f76c086",
   "metadata": {},
   "source": [
    "* order_by(*fields) - It orders the fields.\n",
    "\n",
    "    > 'field' = ASC Order   # for character its work on the ascii code\n",
    "    \n",
    "    > '-field' = DESC Order\n",
    "    \n",
    "    > '?' = Randomly\n",
    "\n",
    "    Example:- \n",
    "        \n",
    "        * Student.objects.exclude(marks=70)"
   ]
  },
  {
   "cell_type": "code",
   "execution_count": null,
   "id": "fe12c718",
   "metadata": {},
   "outputs": [],
   "source": [
    "student_data = Student.objects.order_by('city')  # city = fieldname\n",
    "# SQL QUERY:-\n",
    "\"\"\"\n",
    "    select * from school_student Order_by school_student.city ASC;\n",
    "\"\"\""
   ]
  },
  {
   "cell_type": "markdown",
   "id": "dbcabc81",
   "metadata": {},
   "source": [
    "* reverse() - This  works only when there is ordering in queryset."
   ]
  },
  {
   "cell_type": "code",
   "execution_count": null,
   "id": "ee0be7bd",
   "metadata": {},
   "outputs": [],
   "source": [
    "student_data = Student.objects.order_by('id').reverse()[:5]  # city = fieldname\n",
    "\n",
    "\"\"\"\n",
    "    select * from school_student Order_by school_student.city DESC LIMIT 5;\n",
    "\"\"\""
   ]
  },
  {
   "cell_type": "markdown",
   "id": "98a22082",
   "metadata": {},
   "source": [
    "* values(*fields, * *expressions) - It returns a QuerySet that returns dictionaries, rather than model instances, when used as an iterable. Each of those dictionaries represents an object, with the keys corresponding to the attribute names of model objects. "
   ]
  },
  {
   "cell_type": "code",
   "execution_count": null,
   "id": "f077eeb0",
   "metadata": {},
   "outputs": [],
   "source": [
    "student_data = Student.objects.values() # return all the record with all field but in the form of dictionaries query set\n",
    "\n",
    "\"\"\"\n",
    "    select * from school_student;\n",
    "\"\"\"\n",
    "\n",
    "student_data = Student.objects.values('name', 'city') \n",
    "\n",
    "\"\"\"\n",
    "    select school_student.name, school_student.city from school_student;\n",
    "\"\"\""
   ]
  },
  {
   "cell_type": "markdown",
   "id": "3b2249f2",
   "metadata": {},
   "source": [
    "* distinct(*fields) - This eliminates duplicate rows from the query results."
   ]
  },
  {
   "cell_type": "markdown",
   "id": "93f1e6a2",
   "metadata": {},
   "source": [
    "* dates(field, kind, order='ASC') - It returns a QuerySet that evaluates to a list of datetime.date objects representing all available dates of a particular kind within the contents of the QuerySet.\n",
    "\n",
    "    > field - It should be the name of a DateField of your model.\n",
    "    \n",
    "    > kind - It should be either \"year\", \"month\", \"week\", or \"day\".\n",
    "        \n",
    "        * \"year\" returns a list of all distinct year values for the field.\n",
    "        \n",
    "        * \"month\" returns a list of all distinct year/month values for the field.\n",
    "        \n",
    "        * \"week\" returns a list of all distinct year/week values for the field All dates will be a Monday.\n",
    "        \n",
    "        * \"day\" returns a list of all distinct year/month/day values for the field.\n",
    "        \n",
    "    > order - It should be either 'ASC' or 'DESC'. This specifies how to order the results. defaults to 'ASC'.\n",
    "        \n",
    " Notes:- \n",
    "     \n",
    "     Each datetime.date object in the result list is \"truncated\" to the given type."
   ]
  },
  {
   "cell_type": "code",
   "execution_count": null,
   "id": "fea5235d",
   "metadata": {},
   "outputs": [],
   "source": [
    "# Examples\n",
    "\n",
    "student_data = Student.objects.dates('pass_date', 'month')\n",
    "# student_data\n",
    "\"\"\"\n",
    "    <QuerySet [datetime.date(2020, 4, 1), datetime.date(2020, 5, 1)]>\n",
    "\"\"\"\n",
    "\n",
    "## not show in the home.html\n",
    "\n",
    "student_data = Student.objects.dates('pass_date', 'year')\n",
    "# student_data\n",
    "\"\"\"\n",
    "    <QuerySet [datetime.date(2020, 1, 1)>\n",
    "\"\"\""
   ]
  },
  {
   "cell_type": "markdown",
   "id": "9db97b23",
   "metadata": {},
   "source": [
    "* datetimes(field, kind, order='ASC', tzinfo=None) - It returns a QuerySet that evaluates to a list of datetime.datetime objects representing all available dates of a particular kind within the contents of the QuerySet.\n",
    "\n",
    "    > field - It should be the name of a DateTimeField of your model.\n",
    "    \n",
    "    > kind - It should be either \"year\", \"month\", \"week\", or \"day\".\n",
    "        \n",
    "        * \"year\" returns a list of all distinct year values for the field.\n",
    "        \n",
    "        * \"month\" returns a list of all distinct year/month values for the field.\n",
    "        \n",
    "        * \"week\" returns a list of all distinct year/week values for the field All dates will be a Monday.\n",
    "        \n",
    "        * \"day\" returns a list of all distinct year/month/day values for the field.\n",
    "        \n",
    "    > order - It should be either 'ASC' or 'DESC'. This specifies how to order the results. defaults to 'ASC'.\n",
    "    \n",
    "    > tzinfo - It defines the time zone to which datetimes are converted prior to truncation. This parameter must be a datetime.tzinfo object. If it's None, Django uses the current time zone. It has no effect when USE_TZ is False.\n",
    "        \n",
    " Notes:- \n",
    "     \n",
    "     Each datetime.datetime object in the result list is \"truncated\" to the given type.\n",
    "\n",
    "* none() - Calling none() will create a queryset that never returns any objects and no query will be executed when accessing the results. A qs.none() queryset is an instance of EmptyQuerySet."
   ]
  },
  {
   "cell_type": "code",
   "execution_count": null,
   "id": "72da459c",
   "metadata": {},
   "outputs": [],
   "source": [
    "## Example\n",
    "student_data = Student.objects.none()"
   ]
  },
  {
   "cell_type": "markdown",
   "id": "4ee90754",
   "metadata": {},
   "source": [
    "* union(*other_qs, all=False) - Uses SQL's UNION operator to combine the results of two or more QuerySets. The UNION operator selects only distinct values by default. To allow duplicate values, use the all=True argument. "
   ]
  },
  {
   "cell_type": "code",
   "execution_count": null,
   "id": "4f3243e9",
   "metadata": {},
   "outputs": [],
   "source": [
    "# Example:-\n",
    "\n",
    "student_data = qs2.union(qs1, all=True)\n",
    "\n",
    "\n",
    "###################\n",
    "qs1 = Student.objects.values_list('id', 'name', named=True)\n",
    "qs2 = Teacher.objects.values_list('id', 'name', named=True)\n",
    "\n",
    "student_data = qs2.union(qs1)\n",
    "\n",
    "\"\"\"\n",
    "select school_teacher.id, school_teacher.name from school_teacher UNION select school_student.id, school_student.name from school_student\n",
    "\"\"\""
   ]
  },
  {
   "cell_type": "markdown",
   "id": "d8979eae",
   "metadata": {},
   "source": [
    "* intersection(*other_qs) - Uses SQL's INTERSECT operator to return the shared elements of two or more QuerySets."
   ]
  },
  {
   "cell_type": "code",
   "execution_count": null,
   "id": "a447304e",
   "metadata": {},
   "outputs": [],
   "source": [
    "# Example:-\n",
    "\n",
    "student_data = qs2.intersection(qs1)\n",
    "\n",
    "\n",
    "###################\n",
    "qs1 = Student.objects.values_list('id', 'name', named=True)\n",
    "qs2 = Teacher.objects.values_list('id', 'name', named=True)\n",
    "\n",
    "student_data = qs2.intersection(qs1)\n",
    "\n",
    "\"\"\"\n",
    "select school_teacher.id, school_teacher.name from school_teacher INTERSECT select school_student.id, school_student.name from school_student\n",
    "\"\"\""
   ]
  },
  {
   "cell_type": "markdown",
   "id": "19c7ea5d",
   "metadata": {},
   "source": [
    "* difference(*other_qs) - Uses SQL's EXCEPT operator to keep only elements present in the QuerySet but not in some other QuerySets."
   ]
  },
  {
   "cell_type": "code",
   "execution_count": null,
   "id": "95be0b8b",
   "metadata": {},
   "outputs": [],
   "source": [
    "# Example:-\n",
    "\n",
    "student_data = qs2.difference(qs1)\n",
    "\n",
    "\n",
    "###################\n",
    "qs1 = Student.objects.values_list('id', 'name', named=True)\n",
    "qs2 = Teacher.objects.values_list('id', 'name', named=True)\n",
    "\n",
    "student_data = qs2.difference(qs1)"
   ]
  },
  {
   "cell_type": "markdown",
   "id": "629c27b2",
   "metadata": {},
   "source": [
    "* select_related(*fields) \n",
    "\n",
    "* defer(*fields)\n",
    "\n",
    "* only(*fields)\n",
    "\n",
    "* prefetch_related(*lookups)\n",
    "\n",
    "* extra(select=None, where=None, params=None, tables=None, order_by=None, select_params=None)\n",
    "\n",
    "* select_for_update(nowait=False, skip_locked=False, of=())\n",
    "\n",
    "* raw(raw_query, params=None, translations=None)\n",
    "\n",
    "* annotate(*args, * *kwargs)\n",
    "\n",
    "## Operators that return new QuerySets\n",
    "\n",
    "* AND (&) - Combines two QuerySets using the SQL AND operator.\n",
    "\n",
    "**Example:-**\n",
    "\n",
    "    student_data = Student.objects.filter(id=6) & Student.objects.filter(roll=106)\n",
    "    # or\n",
    "    student_data = Student.objects.filter(id=6,roll=106)\n",
    "    # or\n",
    "    student_data = Student.objects.filter(Q(id=6) & Q(roll=106))\n",
    "    \n",
    "* OR (|) - Combines two QuerySets using the SQL OR operator.\n",
    "\n",
    "**Example:-**\n",
    "\n",
    "    student_data = Student.objects.filter(id=6) | Student.objects.filter(roll=106)\n",
    "    # or\n",
    "    student_data = Student.objects.filter(Q(id=6) | Q(roll=106))\n",
    "    \n",
    "# Methods that do not return new QuerySets\n",
    "\n",
    "**Retrieving a single object**\n",
    "\n",
    "* get() - It returns one single object. If There is no result match it will raise DoesNotExist exception. If more than one item matches the get() query. It will raise MultipleObjectsReturned.    \n",
    "    "
   ]
  },
  {
   "cell_type": "code",
   "execution_count": null,
   "id": "5e20b24b",
   "metadata": {},
   "outputs": [],
   "source": [
    "student_data = Student.objects.get(pk=1) \n",
    "# or                                      # pk , id = field name\n",
    "student_data = Student.objects.get(id=1)"
   ]
  },
  {
   "cell_type": "markdown",
   "id": "9d6f990b",
   "metadata": {},
   "source": [
    "* first() - It returns the first object matched by the queryset, or None if there is no matching object. If the QuerySet has no ordering defined, then the queryset is automatically ordered by the primary key."
   ]
  },
  {
   "cell_type": "code",
   "execution_count": null,
   "id": "cd6a6a83",
   "metadata": {},
   "outputs": [],
   "source": [
    "student_data = Student.objects.first()\n",
    "################################\n",
    "student_data = Student.objects.order_by('name').first()"
   ]
  },
  {
   "cell_type": "markdown",
   "id": "c24a6403",
   "metadata": {},
   "source": [
    "* last() - It returns the last object matched by the queryset, or None if there is no matching object. If the QuerySet has no ordering defined, then the queryset is automatically ordered by the primay key."
   ]
  },
  {
   "cell_type": "code",
   "execution_count": null,
   "id": "119b1232",
   "metadata": {},
   "outputs": [],
   "source": [
    "student_data = Student.objects.last()\n",
    "################################\n",
    "student_data = Student.objects.order_by('name').last()"
   ]
  },
  {
   "cell_type": "markdown",
   "id": "cb17b30a",
   "metadata": {},
   "source": [
    "* latest() - It returns the latest object in the table based on the given fields(s)."
   ]
  },
  {
   "cell_type": "code",
   "execution_count": null,
   "id": "f5b1ad7b",
   "metadata": {},
   "outputs": [],
   "source": [
    "student_data = Student.objects.latest('pass_date')"
   ]
  },
  {
   "cell_type": "markdown",
   "id": "ea139dea",
   "metadata": {},
   "source": [
    "* earliest() - It returns the earliest object in the table based on the given field(s)."
   ]
  },
  {
   "cell_type": "code",
   "execution_count": null,
   "id": "3af168bb",
   "metadata": {},
   "outputs": [],
   "source": [
    "student_data = Student.objects.earliest('pass_date')"
   ]
  },
  {
   "cell_type": "markdown",
   "id": "ac38f4bb",
   "metadata": {},
   "source": [
    "* exists() - It returns True if the QuerySet contains any results, and False if not. This tries to perfom the query in the simplest and fastest way possible, but it does execute nearly the same query as a normal QuerySet query."
   ]
  },
  {
   "cell_type": "code",
   "execution_count": null,
   "id": "bb6cfc19",
   "metadata": {},
   "outputs": [],
   "source": [
    "student_data = Student.objects.all().exists()"
   ]
  },
  {
   "cell_type": "markdown",
   "id": "e443b35d",
   "metadata": {},
   "source": [
    "* create(* *kwargs) - A convenience method for creating an object and saving it all in one step."
   ]
  },
  {
   "cell_type": "code",
   "execution_count": null,
   "id": "f4e291c1",
   "metadata": {},
   "outputs": [],
   "source": [
    "s = Student(name='sammer', roll=112, city='Bokaro', marks=60, pass_date='2020-5-4')\n",
    "s.save(force_insert=True)\n",
    "\n",
    "# or\n",
    "s = Student.objects.create(name='sammer', roll=112, city='Bokaro', marks=60, pass_date='2020-5-4')"
   ]
  },
  {
   "cell_type": "markdown",
   "id": "3f0399f5",
   "metadata": {},
   "source": [
    "* get_or_create(defaults=None, * *kwargs) - A convenience method for looking up an object with the given kwargs (may be empty if your model has defaults for all fields), creating one if necessary.\n",
    "\n",
    "**Note**:- It returns a tuple of (object, created), where object is the retrieved or created object and created is a boolean specifying whether a new object was created."
   ]
  },
  {
   "cell_type": "code",
   "execution_count": null,
   "id": "ab0a5af0",
   "metadata": {},
   "outputs": [],
   "source": [
    "student_data, created = Student.objects.get_or_create(name='Sameer', roll=112, city='Bokaro', marks=60, pass_date='2020-5-4')"
   ]
  },
  {
   "cell_type": "markdown",
   "id": "28fc0cc2",
   "metadata": {},
   "source": [
    "* update(* *kwargs) - Performs an SQL update query for the specified fields, and returns the number of rows matched (which may not be equal to the number of rows updated if some rows already have the new value)."
   ]
  },
  {
   "cell_type": "code",
   "execution_count": null,
   "id": "3fafee11",
   "metadata": {},
   "outputs": [],
   "source": [
    "student_data = Student.objects.filter(id=2).update(name='kabir', marks=80)\n",
    "\n",
    "# Update student's city Pass who has marks 60\n",
    "student_data = Student.objects.filter(marks=60).update(city='pass')\n",
    "\n",
    "\n",
    "## Invalid \n",
    "## update work on the queryset not object.\n",
    "### Student object has no attribute 'update'\n",
    "student_data = Student.objects.get(id=12).update(name='kabir', marks=80)"
   ]
  },
  {
   "cell_type": "markdown",
   "id": "09a23125",
   "metadata": {},
   "source": [
    "* update_or_create(defaults=None, * *kwargs) - A convenience method for updating an object with the given kwargs, creating a new one if necessary. The defaults is a dictionary of (field, value) pairs used to update the object. The values in defaults can be callables.\n",
    "\n",
    "**Note:-** \n",
    "    \n",
    "    It returns a tuple of (object, created), where object is the created or updated object and created is a boolean specifying whether a new object was created.\n",
    "    \n",
    "    The update_or_create method tries to fetch an object from database based on the given kwargs. If a match is found, it updates the fields passed in the defaults dictionary."
   ]
  },
  {
   "cell_type": "code",
   "execution_count": null,
   "id": "1c4eef1e",
   "metadata": {},
   "outputs": [],
   "source": [
    "student_data, created = Student.objects.update_or_create(id=14, name='kohli', defaults={'name':'Sameer'})"
   ]
  },
  {
   "cell_type": "markdown",
   "id": "a166ab1a",
   "metadata": {},
   "source": [
    "* bulk_create(objs, batch_size=None, ignore_conflicts=False) - This method inserts the provided list of objects into the database in an efficient manner.\n",
    "\n",
    "**Notes:-**\n",
    "    \n",
    "    The model's save() method will not be called, and the pre_save and post_save signals will not be sent.\n",
    "\n",
    "    It does not work with child models in a multi-table inheritance scenario.\n",
    "\n",
    "    If the model's primay key is an AutoField it does not retrieve and set the primary key attribute, as save() does, unless the database backend supports it (currently PostgreSQL).\n",
    "\n",
    "    If does not work with many-to-many relationships.\n",
    "\n",
    "    It casts objs to a list, which fully evaluates objs if it's a generator. The cast allows inspecting all objects so that any objects with a manually set primary key can be inserted first.\n",
    "\n",
    "    The batch_size parameter controls how many objects are created in a single query. The default is to create all objects in one batch, except for SQLite where the default is such that at most 999 variables per query are used.\n",
    "\n",
    "    On databses that support it (all but Oracle), setting the ignore_conflicts parameter to True tells the database to ignore failure to insert any rows that fail constraints such as duplicate unique values. Enabling this parameter disables setting the primary key on each model instance."
   ]
  },
  {
   "cell_type": "code",
   "execution_count": null,
   "id": "dc36b704",
   "metadata": {},
   "outputs": [],
   "source": [
    "# examples\n",
    "objs = [\n",
    "    Student(name='Sonal', roll=120, city='Dhanbad', marks=40, pass_date='2020-5-4'),\n",
    "    Student(name='Kunal', roll=121, city='Dumka', marks=50, pass_date='2020-5-7'),\n",
    "    Student(name='Anisa', roll=122, city='Giridih', marks=70, pass_date='2020-5-9')\n",
    "]\n",
    "\n",
    "student_data = Student.objects.bulk_create(objs)"
   ]
  },
  {
   "cell_type": "markdown",
   "id": "db2c655e",
   "metadata": {},
   "source": [
    "* bulk_update(objs, fields, batch_size=None) - This method efficiently updates the given field on the provided model instances, generally which one query. QuerySet.update() is used to save the changes, so this is more efficient than iterating through the list of models and calling save() on each of them.\n",
    "\n",
    "**Notes:-**\n",
    "    \n",
    "    You cannnot update the model's primary key.\n",
    "    \n",
    "    Each model's save() method isn't called, and the pre_save and post_save signals aren't sent.\n",
    "    \n",
    "    If updating a large number of columns in a large number of rows, the SQL generated can be very large. Avoid this by specifying a suitable batch_size.\n",
    "    \n",
    "    Updating fields defined on multi-table inheritance ancestors will incur an extra query per ancestor.\n",
    "    \n",
    "    If objs contains duplicates, only the first one is updated.\n",
    "    \n",
    "    The batch_size parameter controls how many objects are saved in a sinlge query. The default is update all objects in one batch, except for SQLite and Oracle which have restrictions on the number of variables used in a query."
   ]
  },
  {
   "cell_type": "code",
   "execution_count": null,
   "id": "c26d54dc",
   "metadata": {},
   "outputs": [],
   "source": [
    "all_student_data = Student.objects.all()\n",
    "\n",
    "for stu in all_student_data:\n",
    "    stu.city = 'Bhel'\n",
    "    student_data = Student.objects.bulk_update(all_student_data, ['city'])"
   ]
  },
  {
   "cell_type": "markdown",
   "id": "286537e2",
   "metadata": {},
   "source": [
    "* in_bulk(id_list=None, field_name='pk') - It takes a list of field values (id_list) and the field_name for those values, and returns a dictionary mapping each value to an instance of the object with the given field value. if id_list isn't provided, all objects in the queryset are returned. field_name must be a unique field, and it defaults to the primary key."
   ]
  },
  {
   "cell_type": "code",
   "execution_count": null,
   "id": "5a816d57",
   "metadata": {},
   "outputs": [],
   "source": [
    "# example\n",
    "student_data = Student.objects.in_bulk([1,2])\n",
    "print(student_data[1].name)\n",
    "print()\n",
    "student_data1 = Student.objects.in_bulk([])  ## return empty dict"
   ]
  },
  {
   "cell_type": "markdown",
   "id": "999cf583",
   "metadata": {},
   "source": [
    "* delete() - The delete method, conveniently, is named delete(). This method immediately deletes the object and returns the number of objects deleted and a dictionary with the number of deletions per object type."
   ]
  },
  {
   "cell_type": "code",
   "execution_count": null,
   "id": "2d67d89a",
   "metadata": {},
   "outputs": [],
   "source": [
    "# example 1\n",
    "# delete a single record\n",
    "student_data =Student.objects.get(pk=22)\n",
    "deleted = student_data.delete()\n",
    "\n",
    "\n",
    "# delete in bulk\n",
    "\"\"\"\n",
    "    You can also delete objects in bulk. Every QuerySet has a delete() method, which deletes all members of that QuerySet.\n",
    "    \n",
    "\"\"\"\n",
    "# example \n",
    "student_data = Student.objects.filter(marks=50).delete()\n",
    "\n",
    "# delete All records\n",
    "\n",
    "student_data = Student.objects.all().delete()"
   ]
  },
  {
   "cell_type": "markdown",
   "id": "e103d952",
   "metadata": {},
   "source": [
    "* count() - It returns an integer representing the number of objects in the database matching the QuerySet. A count() call performs a SELECT COUNT(*) behind the scenes."
   ]
  },
  {
   "cell_type": "code",
   "execution_count": null,
   "id": "07646dd2",
   "metadata": {},
   "outputs": [],
   "source": [
    "# example:-\n",
    "student_data = Student.objects.all()\n",
    "print(student_data.count())"
   ]
  },
  {
   "cell_type": "markdown",
   "id": "cae76736",
   "metadata": {},
   "source": [
    "* explain(format=None, * *options) - It returns a string of the QuerySet's execution plan, which details how the database would execute the query, including any indexes or joins that would be used. Knowing these details may help you improve the performance of slow queries. explain() is supported by all built-in database backends except Oracle because an implementation there isn't straightforward. The format parameter changes the output format from the databases's default, usually text-based. PostgreSQL supports 'TEXT', 'JSON' ,'YAML', and \"XML,. MySQL supports 'TEXT' (also called 'TRADITIONAL') and 'JSON'."
   ]
  },
  {
   "cell_type": "code",
   "execution_count": null,
   "id": "e50584a6",
   "metadata": {},
   "outputs": [],
   "source": [
    "# Example:\n",
    "print(Student.objects.all().explain())"
   ]
  },
  {
   "cell_type": "markdown",
   "id": "0832eefb",
   "metadata": {},
   "source": [
    "* aggregate(*args, * * kwargs)\n",
    "\n",
    "* as_manager(*args, * * kwargs)\n",
    "\n",
    "* iterator(chunk_size=2000)\n",
    "\n",
    "## Field Lookups\n",
    "\n",
    "Field lookup are how you specify the meet of an SQL WHERE clause.\n",
    "\n",
    "They're specified as keyword arguments to the QuerySet methods filter(), exclude() and ge().\n",
    "\n",
    "If you pass an invalid keyword argument, a lookup function will raise TypeError.\n",
    "\n",
    "**Syantx:-**\n",
    "\n",
    "    field__lookuptype=value\n",
    "    \n",
    "**Example:-**\n",
    "    \n",
    "    Student.objects.filter(marks__lt='50')\n",
    "    (select * from myapp_student where marks<'50')\n",
    "    \n",
    "The field specified in a lookup has to be the name of a model field.\n",
    "\n",
    "In case of a ForeignKey you can specify the field name suffixed with _id. In this case, the value parameter is expected to contain the raw value of the foreign model's primary key.\n",
    "\n",
    "**Example:-**\n",
    "\n",
    "    Student.objects.filter(stu_id=10)\n",
    "    \n",
    "* exact - Exact match. If the value provided for comparison is None, it will be interpreted as an SQL NULL. This is case sensitive.\n",
    "\n",
    "**Example:-**\n",
    "\n",
    "    Student.objects.get(name__exact='sonam')\n",
    "    \n",
    "* iexact - Exact match. If the value provided for comparison is None, it will be interpreted as an SQL NULL. This is case insensitive.\n",
    "\n",
    "**Example:-**\n",
    "\n",
    "    Student.objects.get(name__iexact='sonam')\n",
    "    \n",
    "* contains - Case-sensitive containment test.\n",
    "\n",
    "**Example:-**\n",
    "\n",
    "    Student.objects.get(name__contains='kumar') \n",
    " \n",
    "* icontains - Case-insensitive containment test.\n",
    "\n",
    "**Example:-**\n",
    "\n",
    "    Student.objects.get(name__icontains='kumar')\n",
    "\n",
    "* in - In a given iterable; often a list, tuple, or queryset. It's not a common use case, but strings (being iterables) are accepted.\n",
    "\n",
    "**Example:-**\n",
    "\n",
    "    Student.objects.filter(id__in=[1,5,7])\n",
    "    \n",
    "* gt - Greater than.\n",
    "\n",
    "**Example:-**\n",
    "\n",
    "    Student.objects.filter(marks__gt=50)\n",
    "    \n",
    "* gte - Greater than or equal to.\n",
    "\n",
    "**Example:-**\n",
    "\n",
    "    Student.objects.filter(marks__gte=50)\n",
    "    \n",
    "* lt - Less than.\n",
    "\n",
    "**Example:-**\n",
    "\n",
    "    Student.objects.filter(marks__lt=50)\n",
    "\n",
    "* lte - Less than or equal to.\n",
    "\n",
    "**Example:-**\n",
    "\n",
    "    Student.objects.filter(marks__lte=50)\n",
    "    \n",
    "* startswith - Case-sensitive starts-with.\n",
    "\n",
    "**Example:-**\n",
    "\n",
    "    Student.objects.filter(name__startswith='r') \n",
    " \n",
    "* istartswith - Case-insensitive starts-with.\n",
    "\n",
    "**Example:-**\n",
    "\n",
    "    Student.objects.filter(name__istartswith='r')\n",
    "\n",
    "* endswith - Case-sensitive ends-with.\n",
    "\n",
    "**Example:-**\n",
    "\n",
    "    Student.objects.filter(name__endswith='j') \n",
    " \n",
    "* iendswith - Case-insensitive ends-with.\n",
    "\n",
    "**Example:-**\n",
    "\n",
    "    Student.objects.filter(name__iendswith='j')\n",
    "    \n",
    "* range - Range test (inclusive).\n",
    "\n",
    "**Example:-**\n",
    "    \n",
    "    Student.objects.filter(passdate__range('2020-04-01', '2020-05-05'))\n",
    "    (select * from sudent where admission_date BETWEEN '2020-04-01' and '2020-05-05';)\n",
    "    (You can use range anywhere you can use BETWEEN in SQL-- for dates, numbers and even characters.)\n",
    "\n",
    "* date - For datetime fields, casts the value as date. Allows chaining additional field lookups. Take a date value.\n",
    "\n",
    "**Example:-**\n",
    "\n",
    "    Student.objects.filter(admdatetime__date=date(2020,6,5))\n",
    "    Student.objects.filter(admdatetime__date__gt=date(2020,6,5))\n",
    "    \n",
    "* year - For date and datetime fields, an exact year match. Allows chaining additional field lookups. Take an integer year.\n",
    "\n",
    "**Example:-**\n",
    "    \n",
    "    Student.objects.filter(passdate__year=2020)\n",
    "    Student.objects.filter(passdate__year__gt=2019)    \n",
    "   \n",
    "* month - For date and datetime fields, an exact month match. Allows chaining additional field lookups. Take an integer 1(January) through 12(December).\n",
    "\n",
    "**Example:-**\n",
    "\n",
    "    Student.objects.filter(passdate__month=6)\n",
    "    Student.objects.filter(passdate__month__gt=5)\n",
    "    \n",
    "* day - For date and datetime fields, an exact day match. Allows chaining additional field lookups. Takes an integer day.\n",
    "\n",
    "**Example:-**\n",
    "\n",
    "    Student.objects.filter(passdate__day=5)\n",
    "    Student.objects.filter(passdate__day__gt=3)\n",
    "    (This will match any record with a pub_date on the third day of the month, such as January 3, July 3, etc.)\n",
    "\n",
    "* week - For date and datetime fields, return the week number(1-52 or 53) according to ISO-8601, i.e., weeks start on a Monday and the first week contains the year's first Thursday.\n",
    "\n",
    "**Example:-**\n",
    "\n",
    "    Student.objects.filter(passdate__week=23)\n",
    "    Student.objects.filter(passdate__week__gt=22)\n",
    "\n",
    "* week_day - For date and datetime fields, a 'day of the week' match. Allows chaining additional field lookups.\n",
    "\n",
    "    Takes an ineger value representing the day of week from 1 (Sunday) to 7 (Saturday).\n",
    "    \n",
    "**Example:-**\n",
    "    \n",
    "    Student.objects.filter(passdate__week_day=6)\n",
    "    Student.objects.filter(passdate__week_day__gt=5)\n",
    "    (This will match any record with a admission_date that falls on a Monday (day 2 of the week), regardless of the month or year in which it occurs. Week days are indexed with day 1 being Sunday and day 7 being Saturday.)\n",
    "\n",
    "* quarter - For date and datetime fields, a 'quarter of the year' match. Allows chaining additional field lookups. Takes an integer value between 1 and 4 representing the quarter of the year.\n",
    "\n",
    "**Example:**\n",
    "    \n",
    "    To retrieve entries in the second quarter (April 1 to June 30):\n",
    "    Student.objects.filter(passdate__quarter=2)\n",
    "    \n",
    "* time- For datetime fields, casts the value as time. Allows chaining additional field lookups. Take a datetime.time value.\n",
    "\n",
    "**Example:-**\n",
    "\n",
    "    Student.objects.filter(admdatetime__time__gt=time(6,00))\n",
    "    \n",
    "* hour- For datetime and time fields, an exact hour match. Allows chaining additional field lookups. Takes an integer between 0 and 23.\n",
    "\n",
    "**Example:-**\n",
    "    \n",
    "    Student.objects.filter(admdatetime__hour__gt=5)\n",
    "\n",
    "* minute - For datetime and time fields, an exact minute match. Allows chaining additional field lookups. Takes an integer between 0 and 59.\n",
    "\n",
    "**Example:-**\n",
    "\n",
    "    Student.objects.filter(admdatetime__minute__gt=50)\n",
    "\n",
    "* second - For datetime and time fields, an exact second match. Allows chaining additional field lookups. Takes an integer between 0 and 50.\n",
    "\n",
    "**Example:-**\n",
    "    Student.objects.filter(admdatetime__second__gt=30)\n",
    "    \n",
    "* isnull - Takes either True or False, which correspond to SQL queries of IS NULL and IS NOT NULL, respectively.\n",
    "\n",
    "**Example:-**\n",
    "    \n",
    "    Student.objects.filter(roll__isnull=False)\n",
    "    \n",
    "* regex\n",
    "\n",
    "* iregex\n",
    "\n",
    "## Aggregation\n",
    "\n",
    "Sometimes you will need to retrieve values that are derived by summarizing or aggregating a collection of objects.\n",
    "\n",
    "* aggregate() - It is a terminal clause for a QuerySet that, when invoked, returns a dictionary of name-value pairs. The name is an identifier for the aggregate value; the value is the computed aggregate. The name is automtically generated from the name of the field and the aggregate function.\n",
    "\n",
    "**Synatx:-**\n",
    "\n",
    "    aggregate(name=agg_function('field'), name=agg_function('field'),)\n",
    "    \n",
    "    > field - It describes the aggregate value that we want to compute.\n",
    "    \n",
    "    > name - If you want to manually specify a name for the aggregate value, you can do by providing that name  when you specify the aggregate clause.\n",
    "    \n",
    "* annotate() - Per-object summaries can be generated using the annotate() clause. When an annotate() clause is specified, each object in the QuerySet will be annotated with the specified values. The output of the annotate() clause is QuerySet; this QuerySet can be modified using any other QuerySet operation, including filter(), order_by(), or even additional calls to annotate).\n",
    "\n",
    "**Syntax:-**\n",
    "\n",
    "    annotate(name=agg_function('field'), name=agg_function('field'),)\n",
    "\n",
    "\n",
    "## Aggregation Functions\n",
    "\n",
    "Django provides the following aggregation functions in the **django.db.models** modeule.\n",
    "\n",
    "* Avg(expression, output_field=None, distinct=Flase, filter=None, * *extra) - It returns the mean value of the given expression, which must be numeric unless you specify a different output_field.\n",
    "\n",
    "    Default alis: <field> __avg\n",
    "    \n",
    "    Return type: float if input is int, otherwise same as input field, or output_field if supplied.\n",
    "    \n",
    "    Has one optional argument:\n",
    "    \n",
    "        distinct - If distinct=True, Avg returns the mean value of unique values. This is the SQL equivalent of AVG(DISTINCT <field>). The default value is False.\n",
    "    \n",
    "* Count(expression, ditinct=False, filter=None, * *extra) - It returns the number of objects that are related through the provided expression.\n",
    "    \n",
    "    Default alias: <field>__count\n",
    "    \n",
    "    Return type: int\n",
    "    \n",
    "    Has one optional argument:\n",
    "    \n",
    "    distinct - If distinct=True, the count will only include unqiue instances. This is the SQL equivalent of COUNT(DISTINCT <field>). The default value is False.\n",
    "    \n",
    "* Max(expression, output_field=None, filter=None, * *extra) - It returns the maximum value of the given expression.\n",
    "    \n",
    "    Default alias: <field>__max\n",
    "    \n",
    "    Return type: same as input field, or output_field if supplied\n",
    "    \n",
    "        \n",
    "* Min(expression, output_field=None, filter=None, * *extra) - It returns the minimum value of the given expression.\n",
    "    \n",
    "    Default alias: <field>__,min\n",
    "    \n",
    "    Return type: same as input field, or output_field if supplied.\n",
    "     \n",
    "* Sum(expression, output_field=None, distinct=False, filter=None, * *extra) - It computes the sum of all values of the given expression.\n",
    "    \n",
    "    Default alias: <field>__sum\n",
    "    \n",
    "    Return type: same as input field, or output_field if supplied\n",
    "    \n",
    "    Has one optional argument:\n",
    "    \n",
    "    distinct - If distinct=True, the sum of unique values. This is the SQL equivalent of SUM(DISTINCT <field>). The default value is False.    \n",
    "    \n",
    "* StdDev(expression, output_field=None, sample=False, filter=None, * *extra) - It returns the standard deviation of the data in the provided expression.\n",
    "        \n",
    "    Default alias: <field>__stddev\n",
    "    \n",
    "    Return type: float if imput is int, otherwise same as input field, or output_field if supplied\n",
    "    \n",
    "    Has one optional argument:\n",
    "    \n",
    "    sample - By default, StdDev returns the population deviation. However, if sample=True, the return value will be the sample standard deviation.\n",
    "    \n",
    "* Variance(expression, output_field=None, sample=False, filter=None, * *extra) - It returns the variance of the data in the provided expression.\n",
    "        \n",
    "    Default alias: <field>__variance\n",
    "    \n",
    "    Return type: float if imput is int, otherwise same as input field, or output_field if supplied\n",
    "    \n",
    "    Has one optional argument:\n",
    "    \n",
    "    sample - By default, Variance returns the population variance. However, if sample=True, the return value will be the sample variance."
   ]
  },
  {
   "cell_type": "code",
   "execution_count": null,
   "id": "92e56ec3",
   "metadata": {},
   "outputs": [],
   "source": [
    "# Example\n",
    "from django.db.models import Avg, Sum, Min, Max, Count\n",
    "\n",
    "# Average\n",
    "average = Student.objects.all().aggregate(Avg('marks'))\n",
    "# {average.marks__avg}\n",
    "\n",
    "# Sum\n",
    "sum = Student.objects.all().aggregate(Sum('marks'))\n",
    "# {sum.marks__sum}\n",
    "\n",
    "# Min\n",
    "min = Student.objects.all().aggregate(Min('marks'))\n",
    "# {min.marks__min}\n",
    "\n",
    "# Max\n",
    "max = Student.objects.all().aggregate(Max('marks'))\n",
    "# {max.marks__max}\n",
    "\n",
    "# Count\n",
    "count = Student.objects.all().aggregate(Count('marks'))\n",
    "# {count.marks__count}"
   ]
  },
  {
   "cell_type": "markdown",
   "id": "42af4ed9",
   "metadata": {},
   "source": [
    "# Q Objects\n",
    "\n",
    "Q object is an object used to encapsulate a collection of keyword arguments. These keyword arguments are specified as in \"Field lookups\".\n",
    "\n",
    "If you need to execute more complex queries, you can use Q objects.\n",
    "\n",
    "Q objects can be combined using the & and | operators. When an operator is used on two Q objects, it yields a new Q object.\n",
    "\n",
    "**from django.db.models import Q**\n",
    "\n",
    "* & (AND) Operator\n",
    "\n",
    "**Example:-**\n",
    "    \n",
    "    Student.objects.filter(Q(id=6) & Q(roll=106))\n",
    " \n",
    "* | (OR) Operator\n",
    "\n",
    "**Example:-**\n",
    "    \n",
    "    Student.objects.filter(Q(id=6) | Q(roll=106)) \n",
    "    \n",
    "* ~ Negation Operator\n",
    "\n",
    "**Example:-**\n",
    "    \n",
    "    Student.objects.filter(~Q(id=6)) \n",
    "\n",
    "# Limiting QuerySets\n",
    "\n",
    "Use a subset of Python's array-slicing synatx to limit your QuerySet to a certain number of results. This is the equivalent of SQL's LIMIT and OFFSET clauses."
   ]
  },
  {
   "cell_type": "code",
   "execution_count": null,
   "id": "a9072af0",
   "metadata": {},
   "outputs": [],
   "source": [
    "Student.objects.all()[:5] # This returns First 5 objects\n",
    "\n",
    "Student.objects.all()[5:10] # This returns sixth through tenth objects\n",
    "\n",
    "Student.objects.all()[-1] # This is not valid.\n",
    "\n",
    "Student.objects.all()[:5] # This returns a list of every second object of the first 10."
   ]
  }
 ],
 "metadata": {
  "kernelspec": {
   "display_name": "Python 3 (ipykernel)",
   "language": "python",
   "name": "python3"
  },
  "language_info": {
   "codemirror_mode": {
    "name": "ipython",
    "version": 3
   },
   "file_extension": ".py",
   "mimetype": "text/x-python",
   "name": "python",
   "nbconvert_exporter": "python",
   "pygments_lexer": "ipython3",
   "version": "3.7.11"
  }
 },
 "nbformat": 4,
 "nbformat_minor": 5
}
